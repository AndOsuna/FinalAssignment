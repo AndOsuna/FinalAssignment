{
 "cells": [
  {
   "cell_type": "markdown",
   "id": "ed146a41-bb63-4e1e-a362-18d24cfa811b",
   "metadata": {},
   "source": [
    "# Data Science Tools and Ecosystem"
   ]
  },
  {
   "cell_type": "markdown",
   "id": "db050b9e-b7c2-4a24-ad59-32b3e3d1c21e",
   "metadata": {},
   "source": [
    "In this notebook, Data Science Tools and Ecosystem are summarized."
   ]
  },
  {
   "cell_type": "markdown",
   "id": "4118573c-e987-4082-b007-6af8e997ac76",
   "metadata": {},
   "source": [
    "**Objectives:**\n",
    "* Examples of the popular languages that Data Scientist uses\n",
    "* List of Data Science Open Source Tools\n",
    "* Example of a few simple arithmetical operations\n"
   ]
  },
  {
   "attachments": {},
   "cell_type": "markdown",
   "id": "83f04f71-cd16-4bca-8627-65b40aef338b",
   "metadata": {},
   "source": [
    "Some of the popular languages that Data Scientists use are:\n",
    "1. Python\n",
    "2. SQL\n",
    "3. R"
   ]
  },
  {
   "cell_type": "markdown",
   "id": "bdfb3345-73f2-46de-9121-3a808cf19d6a",
   "metadata": {},
   "source": [
    "Some of the commonly used libraries used by Data Scientists include:\n",
    "1. NumPy\n",
    "2. Pandas\n",
    "3. Matplotlib"
   ]
  },
  {
   "cell_type": "markdown",
   "id": "ac2ea3fe-163c-4829-a3d6-835b7932af85",
   "metadata": {},
   "source": [
    "| Data Science Tools |\n",
    "|--------------------|\n",
    "| Jupyter Notebook   | \n",
    "| RStudio            | \n",
    "| Apache Spark       |"
   ]
  },
  {
   "cell_type": "markdown",
   "id": "93d614fa-546c-413e-b93c-5452500b704a",
   "metadata": {},
   "source": [
    "### Below are a few examples of evaluating arithmetic expressions in Python."
   ]
  },
  {
   "cell_type": "code",
   "execution_count": 6,
   "id": "383f5454-4f83-4029-b5fe-4c0c4fdb7f0d",
   "metadata": {},
   "outputs": [
    {
     "data": {
      "text/plain": [
       "17"
      ]
     },
     "execution_count": 6,
     "metadata": {},
     "output_type": "execute_result"
    }
   ],
   "source": [
    "# This a simple arithmetic expression to mutiply then add integers.\n",
    "(3*4)+5"
   ]
  },
  {
   "cell_type": "code",
   "execution_count": 7,
   "id": "6c3f9f2c-4607-46a4-ab66-553c4a7caf48",
   "metadata": {},
   "outputs": [
    {
     "data": {
      "text/plain": [
       "3.3333333333333335"
      ]
     },
     "execution_count": 7,
     "metadata": {},
     "output_type": "execute_result"
    }
   ],
   "source": [
    "#This will convert 200 minutes to hours by diving by 60.\n",
    "200/60"
   ]
  },
  {
   "cell_type": "markdown",
   "id": "e753a39a-ea40-4abf-a7dd-67969274bcc9",
   "metadata": {},
   "source": [
    "## Author\n",
    "Andres Osuna"
   ]
  },
  {
   "cell_type": "code",
   "execution_count": null,
   "id": "f0dac7f0-0603-4b51-9d08-fa626af26b74",
   "metadata": {},
   "outputs": [],
   "source": []
  }
 ],
 "metadata": {
  "kernelspec": {
   "display_name": "Python 3 (ipykernel)",
   "language": "python",
   "name": "python3"
  },
  "language_info": {
   "codemirror_mode": {
    "name": "ipython",
    "version": 3
   },
   "file_extension": ".py",
   "mimetype": "text/x-python",
   "name": "python",
   "nbconvert_exporter": "python",
   "pygments_lexer": "ipython3",
   "version": "3.13.5"
  }
 },
 "nbformat": 4,
 "nbformat_minor": 5
}
